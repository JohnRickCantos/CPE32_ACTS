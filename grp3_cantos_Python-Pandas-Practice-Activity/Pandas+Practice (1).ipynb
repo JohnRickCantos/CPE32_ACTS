{
  "metadata": {
    "kernelspec": {
      "name": "python",
      "display_name": "Python (Pyodide)",
      "language": "python"
    },
    "language_info": {
      "codemirror_mode": {
        "name": "python",
        "version": 3
      },
      "file_extension": ".py",
      "mimetype": "text/x-python",
      "name": "python",
      "nbconvert_exporter": "python",
      "pygments_lexer": "ipython3",
      "version": "3.8"
    },
    "toc": {
      "nav_menu": {
        "height": "48px",
        "width": "252px"
      },
      "number_sections": true,
      "sideBar": true,
      "skip_h1_title": false,
      "toc_cell": false,
      "toc_position": {},
      "toc_section_display": "block",
      "toc_window_display": false
    }
  },
  "nbformat_minor": 4,
  "nbformat": 4,
  "cells": [
    {
      "cell_type": "markdown",
      "source": "# Part 1",
      "metadata": {
        "collapsed": true,
        "jupyter": {
          "outputs_hidden": true
        }
      }
    },
    {
      "cell_type": "markdown",
      "source": "The file \"Purchase_Data.csv\" contains purchase data at a Chinese supermarket for various products.  Read this csv into a dataframe called df_data and use the head() method to check that you have read in the data correctly. Make sure you import pandas.",
      "metadata": {}
    },
    {
      "cell_type": "code",
      "source": "import pandas as pd\n\n# Read the CSV file into a dataframe\ndf_data = pd.read_csv('Purchase_Data.csv')\n\n# Use the head() method to check the first few rows of the dataframe\ndf_data.head()",
      "metadata": {
        "collapsed": false,
        "jupyter": {
          "outputs_hidden": false
        },
        "trusted": true
      },
      "outputs": [
        {
          "execution_count": 3,
          "output_type": "execute_result",
          "data": {
            "text/plain": "   invoice_number   invoice_time store_id  product_id  category_id  num_item  \\\n0    2.020000e+11  7/15/15 10:45     G816     7000300       210101       1.0   \n1    2.020000e+11  7/15/15 12:16     G816     7070884        70203       1.0   \n2    2.020000e+11  7/15/15 12:16     G816     7070884        70203       1.0   \n3    2.020000e+11  7/15/15 12:16     G816     7070891        70401       1.0   \n4    2.020000e+11  7/15/15 12:16     G816     7090363        70401       1.0   \n\n   price  \n0    2.0  \n1    2.0  \n2    2.0  \n3    6.0  \n4    6.0  ",
            "text/html": "<div>\n<style scoped>\n    .dataframe tbody tr th:only-of-type {\n        vertical-align: middle;\n    }\n\n    .dataframe tbody tr th {\n        vertical-align: top;\n    }\n\n    .dataframe thead th {\n        text-align: right;\n    }\n</style>\n<table border=\"1\" class=\"dataframe\">\n  <thead>\n    <tr style=\"text-align: right;\">\n      <th></th>\n      <th>invoice_number</th>\n      <th>invoice_time</th>\n      <th>store_id</th>\n      <th>product_id</th>\n      <th>category_id</th>\n      <th>num_item</th>\n      <th>price</th>\n    </tr>\n  </thead>\n  <tbody>\n    <tr>\n      <th>0</th>\n      <td>2.020000e+11</td>\n      <td>7/15/15 10:45</td>\n      <td>G816</td>\n      <td>7000300</td>\n      <td>210101</td>\n      <td>1.0</td>\n      <td>2.0</td>\n    </tr>\n    <tr>\n      <th>1</th>\n      <td>2.020000e+11</td>\n      <td>7/15/15 12:16</td>\n      <td>G816</td>\n      <td>7070884</td>\n      <td>70203</td>\n      <td>1.0</td>\n      <td>2.0</td>\n    </tr>\n    <tr>\n      <th>2</th>\n      <td>2.020000e+11</td>\n      <td>7/15/15 12:16</td>\n      <td>G816</td>\n      <td>7070884</td>\n      <td>70203</td>\n      <td>1.0</td>\n      <td>2.0</td>\n    </tr>\n    <tr>\n      <th>3</th>\n      <td>2.020000e+11</td>\n      <td>7/15/15 12:16</td>\n      <td>G816</td>\n      <td>7070891</td>\n      <td>70401</td>\n      <td>1.0</td>\n      <td>6.0</td>\n    </tr>\n    <tr>\n      <th>4</th>\n      <td>2.020000e+11</td>\n      <td>7/15/15 12:16</td>\n      <td>G816</td>\n      <td>7090363</td>\n      <td>70401</td>\n      <td>1.0</td>\n      <td>6.0</td>\n    </tr>\n  </tbody>\n</table>\n</div>"
          },
          "metadata": {}
        }
      ],
      "execution_count": 3
    },
    {
      "cell_type": "markdown",
      "source": "Use the dtypes attribute to view how each column is stored",
      "metadata": {}
    },
    {
      "cell_type": "code",
      "source": "# Import pandas\nimport pandas as pd\n\n# Read the csv file into a DataFrame\ndf_data = pd.read_csv('Purchase_Data.csv')\n\n# Use the dtypes attribute to view the data types of each column\ncolumn_types = df_data.dtypes\nprint(column_types)",
      "metadata": {
        "collapsed": false,
        "jupyter": {
          "outputs_hidden": false
        },
        "trusted": true
      },
      "outputs": [
        {
          "name": "stdout",
          "text": "invoice_number    float64\ninvoice_time       object\nstore_id           object\nproduct_id          int64\ncategory_id         int64\nnum_item          float64\nprice             float64\ndtype: object\n",
          "output_type": "stream"
        }
      ],
      "execution_count": 4
    },
    {
      "cell_type": "markdown",
      "source": "Slice the first two columns using .loc and store the result in a variable called result_1.",
      "metadata": {}
    },
    {
      "cell_type": "code",
      "source": "# Import pandas\nimport pandas as pd\n\n# Read the csv file into a dataframe\ndf_data = pd.read_csv('Purchase_Data.csv')\n\n# Use the head() method to check the data[^1^][1]\ndf_data.head()\n\n# Slice the first two columns using .loc\nresult_1 = df_data.loc[:, :df_data.columns[1]]\n\n# Display the result\nresult_1\n",
      "metadata": {
        "collapsed": false,
        "jupyter": {
          "outputs_hidden": false
        },
        "trusted": true
      },
      "outputs": [
        {
          "execution_count": 5,
          "output_type": "execute_result",
          "data": {
            "text/plain": "      invoice_number   invoice_time\n0       2.020000e+11  7/15/15 10:45\n1       2.020000e+11  7/15/15 12:16\n2       2.020000e+11  7/15/15 12:16\n3       2.020000e+11  7/15/15 12:16\n4       2.020000e+11  7/15/15 12:16\n...              ...            ...\n5377    2.020000e+11   9/5/15 23:07\n5378    2.020000e+11   9/5/15 23:23\n5379    2.020000e+11   9/5/15 23:24\n5380    2.020000e+11   9/5/15 23:32\n5381    2.020000e+11   9/5/15 23:38\n\n[5382 rows x 2 columns]",
            "text/html": "<div>\n<style scoped>\n    .dataframe tbody tr th:only-of-type {\n        vertical-align: middle;\n    }\n\n    .dataframe tbody tr th {\n        vertical-align: top;\n    }\n\n    .dataframe thead th {\n        text-align: right;\n    }\n</style>\n<table border=\"1\" class=\"dataframe\">\n  <thead>\n    <tr style=\"text-align: right;\">\n      <th></th>\n      <th>invoice_number</th>\n      <th>invoice_time</th>\n    </tr>\n  </thead>\n  <tbody>\n    <tr>\n      <th>0</th>\n      <td>2.020000e+11</td>\n      <td>7/15/15 10:45</td>\n    </tr>\n    <tr>\n      <th>1</th>\n      <td>2.020000e+11</td>\n      <td>7/15/15 12:16</td>\n    </tr>\n    <tr>\n      <th>2</th>\n      <td>2.020000e+11</td>\n      <td>7/15/15 12:16</td>\n    </tr>\n    <tr>\n      <th>3</th>\n      <td>2.020000e+11</td>\n      <td>7/15/15 12:16</td>\n    </tr>\n    <tr>\n      <th>4</th>\n      <td>2.020000e+11</td>\n      <td>7/15/15 12:16</td>\n    </tr>\n    <tr>\n      <th>...</th>\n      <td>...</td>\n      <td>...</td>\n    </tr>\n    <tr>\n      <th>5377</th>\n      <td>2.020000e+11</td>\n      <td>9/5/15 23:07</td>\n    </tr>\n    <tr>\n      <th>5378</th>\n      <td>2.020000e+11</td>\n      <td>9/5/15 23:23</td>\n    </tr>\n    <tr>\n      <th>5379</th>\n      <td>2.020000e+11</td>\n      <td>9/5/15 23:24</td>\n    </tr>\n    <tr>\n      <th>5380</th>\n      <td>2.020000e+11</td>\n      <td>9/5/15 23:32</td>\n    </tr>\n    <tr>\n      <th>5381</th>\n      <td>2.020000e+11</td>\n      <td>9/5/15 23:38</td>\n    </tr>\n  </tbody>\n</table>\n<p>5382 rows × 2 columns</p>\n</div>"
          },
          "metadata": {}
        }
      ],
      "execution_count": 5
    },
    {
      "cell_type": "markdown",
      "source": "Slice the first two rows using .loc and store the result in a variable called result_2.",
      "metadata": {}
    },
    {
      "cell_type": "code",
      "source": "result_2 = df_data.loc[:1]\n\nresult_2",
      "metadata": {
        "collapsed": false,
        "jupyter": {
          "outputs_hidden": false
        },
        "trusted": true
      },
      "outputs": [
        {
          "execution_count": 12,
          "output_type": "execute_result",
          "data": {
            "text/plain": "   invoice_number   invoice_time store_id  product_id  category_id  num_item  \\\n0    2.020000e+11  7/15/15 10:45     G816     7000300       210101       1.0   \n1    2.020000e+11  7/15/15 12:16     G816     7070884        70203       1.0   \n\n   price  \n0    2.0  \n1    2.0  ",
            "text/html": "<div>\n<style scoped>\n    .dataframe tbody tr th:only-of-type {\n        vertical-align: middle;\n    }\n\n    .dataframe tbody tr th {\n        vertical-align: top;\n    }\n\n    .dataframe thead th {\n        text-align: right;\n    }\n</style>\n<table border=\"1\" class=\"dataframe\">\n  <thead>\n    <tr style=\"text-align: right;\">\n      <th></th>\n      <th>invoice_number</th>\n      <th>invoice_time</th>\n      <th>store_id</th>\n      <th>product_id</th>\n      <th>category_id</th>\n      <th>num_item</th>\n      <th>price</th>\n    </tr>\n  </thead>\n  <tbody>\n    <tr>\n      <th>0</th>\n      <td>2.020000e+11</td>\n      <td>7/15/15 10:45</td>\n      <td>G816</td>\n      <td>7000300</td>\n      <td>210101</td>\n      <td>1.0</td>\n      <td>2.0</td>\n    </tr>\n    <tr>\n      <th>1</th>\n      <td>2.020000e+11</td>\n      <td>7/15/15 12:16</td>\n      <td>G816</td>\n      <td>7070884</td>\n      <td>70203</td>\n      <td>1.0</td>\n      <td>2.0</td>\n    </tr>\n  </tbody>\n</table>\n</div>"
          },
          "metadata": {}
        }
      ],
      "execution_count": 12
    },
    {
      "cell_type": "markdown",
      "source": "Slice the first four rows and the first five columns and store the result in a variable called result_3.",
      "metadata": {}
    },
    {
      "cell_type": "code",
      "source": "result_3 = df_data.iloc[:4, :5]\n\nresult_3",
      "metadata": {
        "collapsed": false,
        "jupyter": {
          "outputs_hidden": false
        },
        "trusted": true
      },
      "outputs": [
        {
          "execution_count": 14,
          "output_type": "execute_result",
          "data": {
            "text/plain": "   invoice_number   invoice_time store_id  product_id  category_id\n0    2.020000e+11  7/15/15 10:45     G816     7000300       210101\n1    2.020000e+11  7/15/15 12:16     G816     7070884        70203\n2    2.020000e+11  7/15/15 12:16     G816     7070884        70203\n3    2.020000e+11  7/15/15 12:16     G816     7070891        70401",
            "text/html": "<div>\n<style scoped>\n    .dataframe tbody tr th:only-of-type {\n        vertical-align: middle;\n    }\n\n    .dataframe tbody tr th {\n        vertical-align: top;\n    }\n\n    .dataframe thead th {\n        text-align: right;\n    }\n</style>\n<table border=\"1\" class=\"dataframe\">\n  <thead>\n    <tr style=\"text-align: right;\">\n      <th></th>\n      <th>invoice_number</th>\n      <th>invoice_time</th>\n      <th>store_id</th>\n      <th>product_id</th>\n      <th>category_id</th>\n    </tr>\n  </thead>\n  <tbody>\n    <tr>\n      <th>0</th>\n      <td>2.020000e+11</td>\n      <td>7/15/15 10:45</td>\n      <td>G816</td>\n      <td>7000300</td>\n      <td>210101</td>\n    </tr>\n    <tr>\n      <th>1</th>\n      <td>2.020000e+11</td>\n      <td>7/15/15 12:16</td>\n      <td>G816</td>\n      <td>7070884</td>\n      <td>70203</td>\n    </tr>\n    <tr>\n      <th>2</th>\n      <td>2.020000e+11</td>\n      <td>7/15/15 12:16</td>\n      <td>G816</td>\n      <td>7070884</td>\n      <td>70203</td>\n    </tr>\n    <tr>\n      <th>3</th>\n      <td>2.020000e+11</td>\n      <td>7/15/15 12:16</td>\n      <td>G816</td>\n      <td>7070891</td>\n      <td>70401</td>\n    </tr>\n  </tbody>\n</table>\n</div>"
          },
          "metadata": {}
        }
      ],
      "execution_count": 14
    },
    {
      "cell_type": "markdown",
      "source": "Slice rows 0,4,6 and columns invoice time and price and store the result in variable called result_4.",
      "metadata": {}
    },
    {
      "cell_type": "code",
      "source": "result_4 = df_data.loc[[0, 4, 6], ['invoice_time', 'price']]\nresult_4",
      "metadata": {
        "collapsed": false,
        "jupyter": {
          "outputs_hidden": false
        },
        "trusted": true
      },
      "outputs": [
        {
          "execution_count": 25,
          "output_type": "execute_result",
          "data": {
            "text/plain": "    invoice_time  price\n0  7/15/15 10:45    2.0\n4  7/15/15 12:16    6.0\n6  7/15/15 15:28    2.0",
            "text/html": "<div>\n<style scoped>\n    .dataframe tbody tr th:only-of-type {\n        vertical-align: middle;\n    }\n\n    .dataframe tbody tr th {\n        vertical-align: top;\n    }\n\n    .dataframe thead th {\n        text-align: right;\n    }\n</style>\n<table border=\"1\" class=\"dataframe\">\n  <thead>\n    <tr style=\"text-align: right;\">\n      <th></th>\n      <th>invoice_time</th>\n      <th>price</th>\n    </tr>\n  </thead>\n  <tbody>\n    <tr>\n      <th>0</th>\n      <td>7/15/15 10:45</td>\n      <td>2.0</td>\n    </tr>\n    <tr>\n      <th>4</th>\n      <td>7/15/15 12:16</td>\n      <td>6.0</td>\n    </tr>\n    <tr>\n      <th>6</th>\n      <td>7/15/15 15:28</td>\n      <td>2.0</td>\n    </tr>\n  </tbody>\n</table>\n</div>"
          },
          "metadata": {}
        }
      ],
      "execution_count": 25
    },
    {
      "cell_type": "markdown",
      "source": "Store the number rows in a variable called num_rows.",
      "metadata": {}
    },
    {
      "cell_type": "code",
      "source": "num_rows = df_data.shape[0]\nprint(num_rows)",
      "metadata": {
        "collapsed": false,
        "jupyter": {
          "outputs_hidden": false
        },
        "trusted": true
      },
      "outputs": [
        {
          "name": "stdout",
          "text": "5382\n",
          "output_type": "stream"
        }
      ],
      "execution_count": 24
    },
    {
      "cell_type": "markdown",
      "source": "Print out the last row of the data to dataframe. **Hint:** use the variable num_rows from the previous exercise.",
      "metadata": {}
    },
    {
      "cell_type": "code",
      "source": "last_row = df_data.iloc[num_rows - 1]\nprint(last_row)\n",
      "metadata": {
        "collapsed": false,
        "jupyter": {
          "outputs_hidden": false
        },
        "trusted": true
      },
      "outputs": [
        {
          "name": "stdout",
          "text": "invoice_number    202000000000.0\ninvoice_time        9/5/15 23:38\nstore_id                    G619\nproduct_id              23030206\ncategory_id               210101\nnum_item                     1.0\nprice                        2.0\nName: 5381, dtype: object\n",
          "output_type": "stream"
        }
      ],
      "execution_count": 23
    },
    {
      "cell_type": "markdown",
      "source": "# Part 2",
      "metadata": {}
    },
    {
      "cell_type": "markdown",
      "source": "Compute the average and max price charged.  Store the results in variables called avg_price and max_price",
      "metadata": {}
    },
    {
      "cell_type": "code",
      "source": "import pandas as pd\n\ndf_data = pd.read_csv('Purchase_Data.csv')\n\n# Compute the average price\navg_price = df_data['price'].mean()\n\n# Compute the maximum price\nmax_price = df_data['price'].max()\n\n# Output the results\nprint(f\"The average price is: {avg_price}\")\nprint(f\"The maximum price is: {max_price}\")\n",
      "metadata": {
        "collapsed": false,
        "jupyter": {
          "outputs_hidden": false
        },
        "trusted": true
      },
      "outputs": [
        {
          "name": "stdout",
          "text": "The average price is: 3.1920522110741363\nThe maximum price is: 6.01\n",
          "output_type": "stream"
        }
      ],
      "execution_count": 26
    },
    {
      "cell_type": "markdown",
      "source": "Compute the average price and average number of items purchased with only a single call to the mean() method. Store these averages in avg_price and avg_num_items.",
      "metadata": {}
    },
    {
      "cell_type": "code",
      "source": "# Calculate the average price and average number of items\navg_price, avg_num_items = df_data[['price', 'num_item']].mean()\n\n# Display the results\nprint(\"Average Price:\", avg_price)\nprint(\"Average Number of Items:\", avg_num_items)",
      "metadata": {
        "collapsed": false,
        "jupyter": {
          "outputs_hidden": false
        },
        "trusted": true
      },
      "outputs": [
        {
          "name": "stdout",
          "text": "Average Price: 3.1920522110741363\nAverage Number of Items: 1.2983091787439613\n",
          "output_type": "stream"
        }
      ],
      "execution_count": 30
    },
    {
      "cell_type": "markdown",
      "source": "Create a column called \"total\", which is the product of the price and num_item columns.",
      "metadata": {}
    },
    {
      "cell_type": "code",
      "source": "df_data['total'] = df_data['price'] * df_data['num_item']\nprint(df_data['total'])\n",
      "metadata": {
        "collapsed": false,
        "jupyter": {
          "outputs_hidden": false
        },
        "trusted": true
      },
      "outputs": [
        {
          "name": "stdout",
          "text": "0       2.0\n1       2.0\n2       2.0\n3       6.0\n4       6.0\n       ... \n5377    3.0\n5378    6.0\n5379    5.0\n5380    4.0\n5381    2.0\nName: total, Length: 5382, dtype: float64\n",
          "output_type": "stream"
        }
      ],
      "execution_count": 32
    },
    {
      "cell_type": "markdown",
      "source": "What is the avgerage price of the three most expensive purchases? ",
      "metadata": {}
    },
    {
      "cell_type": "code",
      "source": "# Sort the DataFrame by the 'price' column in descending order\ndf_sorted = df_data.sort_values(by='price', ascending=False)\n\n# Select the top three most expensive purchases\ntop_three = df_sorted.head(3)\n\n# Calculate the average price of these three purchases\naverage_price_top_three = top_three['price'].mean()\nprint(\"Average price of the three most expensive purchases:\", average_price_top_three)\n",
      "metadata": {
        "collapsed": false,
        "jupyter": {
          "outputs_hidden": false
        },
        "trusted": true
      },
      "outputs": [
        {
          "name": "stdout",
          "text": "Average price of the three most expensive purchases: 6.003333333333333\n",
          "output_type": "stream"
        }
      ],
      "execution_count": 33
    },
    {
      "cell_type": "markdown",
      "source": "How many different products are there?",
      "metadata": {}
    },
    {
      "cell_type": "code",
      "source": "#'product_name' is the column with the product names\nnum_different_products = df_data['product_id'].nunique()\nprint(\"There are\", num_different_products, \"different products.\")\n\n",
      "metadata": {
        "collapsed": false,
        "jupyter": {
          "outputs_hidden": false
        },
        "trusted": true
      },
      "outputs": [
        {
          "name": "stdout",
          "text": "There are 53 different products.\n",
          "output_type": "stream"
        }
      ],
      "execution_count": 35
    },
    {
      "cell_type": "markdown",
      "source": "Find the difference between the mean and median of the column total.  Use the describe() method and then index the dataframe it returns.",
      "metadata": {}
    },
    {
      "cell_type": "code",
      "source": "summary_stats = df_data['total'].describe()\nmean_value = summary_stats['mean']\nmedian_value = summary_stats['50%']\ndifference = mean_value - median_value\n\nprint(\"The difference between the mean and median is:\", difference)\n",
      "metadata": {
        "collapsed": false,
        "jupyter": {
          "outputs_hidden": false
        },
        "trusted": true
      },
      "outputs": [
        {
          "name": "stdout",
          "text": "The difference between the mean and median is: 0.9318078781127839\n",
          "output_type": "stream"
        }
      ],
      "execution_count": 36
    },
    {
      "cell_type": "markdown",
      "source": "Use the drop() method to delete the column total from the dataframe df_data.",
      "metadata": {}
    },
    {
      "cell_type": "code",
      "source": "# Drop the 'total' column from the dataframe\ndf_data = df_data.drop('total', axis=1)",
      "metadata": {
        "collapsed": false,
        "jupyter": {
          "outputs_hidden": false
        },
        "trusted": true
      },
      "outputs": [],
      "execution_count": null
    },
    {
      "cell_type": "markdown",
      "source": "Let's dig a little deeper into the data set and answer some basic question.",
      "metadata": {}
    },
    {
      "cell_type": "code",
      "source": "#Write your code here\n",
      "metadata": {
        "collapsed": false,
        "jupyter": {
          "outputs_hidden": false
        }
      },
      "outputs": [],
      "execution_count": 1
    },
    {
      "cell_type": "markdown",
      "source": "First, covert the column invoice time to a datetime column. Print out the new column types to make sure this was done correctly",
      "metadata": {}
    },
    {
      "cell_type": "code",
      "source": "import pandas as pd\n\ndf_data = pd.read_csv('Purchase_Data.csv')\n\n# Convert 'invoice time' column to datetime\ndf_data['invoice_time'] = pd.to_datetime(df_data['invoice_time'])\n\nprint(df_data.dtypes)",
      "metadata": {
        "collapsed": false,
        "jupyter": {
          "outputs_hidden": false
        },
        "trusted": true
      },
      "outputs": [
        {
          "name": "stdout",
          "text": "invoice_number           float64\ninvoice_time      datetime64[ns]\nstore_id                  object\nproduct_id                 int64\ncategory_id                int64\nnum_item                 float64\nprice                    float64\ndtype: object\n",
          "output_type": "stream"
        }
      ],
      "execution_count": 48
    },
    {
      "cell_type": "markdown",
      "source": "Next, let's create columns called \"DOW\" and \"Month\", which store the corresponding weekday and month of the invoice respectively.  Print the head of the dataframe to make sure this was done correctly.",
      "metadata": {}
    },
    {
      "cell_type": "code",
      "source": "import pandas as pd\n\n#'invoice_time' is the column with datetime information\ndf_data['invoice_time'] = pd.to_datetime(df_data['invoice_time'])\n\n# Create 'DOW' column for Day of the Week\ndf_data['DOW'] = df_data['invoice_time'].dt.day_name()\n\n# Create 'Month' column for the month\ndf_data['Month'] = df_data['invoice_time'].dt.month_name()\n\nprint(df_data.head())",
      "metadata": {
        "collapsed": false,
        "jupyter": {
          "outputs_hidden": false
        },
        "trusted": true
      },
      "outputs": [
        {
          "name": "stdout",
          "text": "   invoice_number        invoice_time store_id  product_id  category_id  \\\n0    2.020000e+11 2015-07-15 10:45:00     G816     7000300       210101   \n1    2.020000e+11 2015-07-15 12:16:00     G816     7070884        70203   \n2    2.020000e+11 2015-07-15 12:16:00     G816     7070884        70203   \n3    2.020000e+11 2015-07-15 12:16:00     G816     7070891        70401   \n4    2.020000e+11 2015-07-15 12:16:00     G816     7090363        70401   \n\n   num_item  price        DOW Month  \n0       1.0    2.0  Wednesday  July  \n1       1.0    2.0  Wednesday  July  \n2       1.0    2.0  Wednesday  July  \n3       1.0    6.0  Wednesday  July  \n4       1.0    6.0  Wednesday  July  \n",
          "output_type": "stream"
        }
      ],
      "execution_count": 49
    },
    {
      "cell_type": "markdown",
      "source": "Create a variable called num_purchases_wed, which stores the number of purchases made on Wednesday?  You should use value_counts and then index the series it return.",
      "metadata": {}
    },
    {
      "cell_type": "code",
      "source": "#'DOW' column contains the day of the week for each purchase\nnum_purchases_wed = df_data['DOW'].value_counts()['Wednesday']\nprint(num_purchases_wed)\n",
      "metadata": {
        "collapsed": false,
        "jupyter": {
          "outputs_hidden": false
        },
        "trusted": true
      },
      "outputs": [
        {
          "name": "stdout",
          "text": "959\n",
          "output_type": "stream"
        }
      ],
      "execution_count": 56
    },
    {
      "cell_type": "markdown",
      "source": "# Part 3",
      "metadata": {}
    },
    {
      "cell_type": "markdown",
      "source": "In this set of practice exercises, we will be working with a demographic data regarding the passengers aboard the Titanic.  Read in the data frame and use the head() method to check that it was read in correctly.",
      "metadata": {}
    },
    {
      "cell_type": "code",
      "source": "#Write your code here\n",
      "metadata": {
        "collapsed": false,
        "jupyter": {
          "outputs_hidden": false
        }
      },
      "outputs": [],
      "execution_count": 4
    },
    {
      "cell_type": "markdown",
      "source": "Use the rename method to change the column \"Name\" to \"Passenger_Name\" and the column \"Ticket\" to \"Ticket_Num\".",
      "metadata": {}
    },
    {
      "cell_type": "code",
      "source": "#Write your code here\n",
      "metadata": {
        "collapsed": false,
        "jupyter": {
          "outputs_hidden": false
        }
      },
      "outputs": [],
      "execution_count": 5
    },
    {
      "cell_type": "markdown",
      "source": "Change the index of the df_titanic to the column PasengerID.",
      "metadata": {}
    },
    {
      "cell_type": "code",
      "source": "#Write your code here\n",
      "metadata": {
        "collapsed": false,
        "scrolled": true,
        "jupyter": {
          "outputs_hidden": false
        }
      },
      "outputs": [],
      "execution_count": 6
    },
    {
      "cell_type": "markdown",
      "source": "Select the name of passenger 896",
      "metadata": {}
    },
    {
      "cell_type": "code",
      "source": "#Write your code here\n",
      "metadata": {
        "collapsed": false,
        "jupyter": {
          "outputs_hidden": false
        }
      },
      "outputs": [],
      "execution_count": 7
    },
    {
      "cell_type": "markdown",
      "source": "Change the index back to row numbers but making sure that we don't lose the PassengerId column. ",
      "metadata": {}
    },
    {
      "cell_type": "code",
      "source": "#Write your code here\n",
      "metadata": {
        "collapsed": false,
        "jupyter": {
          "outputs_hidden": false
        }
      },
      "outputs": [],
      "execution_count": 8
    },
    {
      "cell_type": "markdown",
      "source": "How many missing entries are there in the Age column? Use the isnull() method and recall than Booleans are exactly like 1s (True) and 0s (False).",
      "metadata": {}
    },
    {
      "cell_type": "code",
      "source": "#Write you code here\n",
      "metadata": {
        "collapsed": false,
        "jupyter": {
          "outputs_hidden": false
        }
      },
      "outputs": [],
      "execution_count": 9
    },
    {
      "cell_type": "markdown",
      "source": "Compute the avg age of passengers ignoring the missing data.",
      "metadata": {}
    },
    {
      "cell_type": "code",
      "source": "#Write your code here\n",
      "metadata": {
        "collapsed": false,
        "jupyter": {
          "outputs_hidden": false
        }
      },
      "outputs": [],
      "execution_count": 10
    },
    {
      "cell_type": "markdown",
      "source": "Using the fillna() method replace the missing values in the Age column with the mean.",
      "metadata": {}
    },
    {
      "cell_type": "code",
      "source": "#Write your code here\n",
      "metadata": {
        "collapsed": false,
        "jupyter": {
          "outputs_hidden": false
        }
      },
      "outputs": [],
      "execution_count": 11
    },
    {
      "cell_type": "markdown",
      "source": "What is the average age of the 5 oldest passengers? The reset_index method will be helpful here.",
      "metadata": {}
    },
    {
      "cell_type": "code",
      "source": "#Write your code here\n",
      "metadata": {
        "collapsed": false,
        "jupyter": {
          "outputs_hidden": false
        }
      },
      "outputs": [],
      "execution_count": 12
    }
  ]
}